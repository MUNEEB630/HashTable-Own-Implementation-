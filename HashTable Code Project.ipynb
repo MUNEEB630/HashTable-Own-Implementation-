{
 "cells": [
  {
   "cell_type": "code",
   "execution_count": 6,
   "metadata": {},
   "outputs": [],
   "source": [
    "#Simple Hashing\n",
    "class HashTable:\n",
    "    def __init__(self,length):#length of array for hashing table\n",
    "        self.length=length\n",
    "        self.data=[None for  i in range(length)]#making a none array \n",
    "    \n",
    "    def Get_Array(self):\n",
    "        return self.data\n",
    "    \n",
    "    def __Get_Hash(self,key):\n",
    "        Hash_key=0\n",
    "        for i in key:\n",
    "            Hash_key+=ord(i)\n",
    "        return Hash_key%self.length\n",
    "    \n",
    "    def Get_Item(self,index):#index for returning the item using hash\n",
    "        Hash=self.__Get_Hash(index)\n",
    "        return self.data[Hash]\n",
    "    \n",
    "    def Set_Item(self,key,value):#Setting item through key in hashtable\n",
    "        Hash=self.__Get_Hash(key)\n",
    "        self.data[Hash]=(key,value)\n",
    "    \n",
    "    def Del_Item(self,key):#deleting item from hashtable using key\n",
    "        Hash=self.__Get_Hash(key)\n",
    "        self.data[Hash]=None"
   ]
  },
  {
   "cell_type": "code",
   "execution_count": 7,
   "metadata": {},
   "outputs": [],
   "source": [
    "obj=HashTable(10)"
   ]
  },
  {
   "cell_type": "code",
   "execution_count": 159,
   "metadata": {},
   "outputs": [
    {
     "data": {
      "text/plain": [
       "[[],\n",
       " [],\n",
       " [('116', 'Muneeb_Mirza')],\n",
       " [],\n",
       " [],\n",
       " [],\n",
       " [],\n",
       " [],\n",
       " [('84', 'Muhammad_Waqar')],\n",
       " []]"
      ]
     },
     "execution_count": 159,
     "metadata": {},
     "output_type": "execute_result"
    }
   ],
   "source": [
    "obj.Get_Array()"
   ]
  },
  {
   "cell_type": "code",
   "execution_count": 160,
   "metadata": {},
   "outputs": [],
   "source": [
    "obj.Set_Item(\"84\",\"Muhammad_Waqar\")"
   ]
  },
  {
   "cell_type": "code",
   "execution_count": 161,
   "metadata": {},
   "outputs": [
    {
     "data": {
      "text/plain": [
       "[[],\n",
       " [],\n",
       " [('116', 'Muneeb_Mirza')],\n",
       " [],\n",
       " [],\n",
       " [],\n",
       " [],\n",
       " [],\n",
       " [('84', 'Muhammad_Waqar'), ('84', 'Muhammad_Waqar')],\n",
       " []]"
      ]
     },
     "execution_count": 161,
     "metadata": {},
     "output_type": "execute_result"
    }
   ],
   "source": [
    "obj.Get_Array()"
   ]
  },
  {
   "cell_type": "code",
   "execution_count": 162,
   "metadata": {},
   "outputs": [
    {
     "data": {
      "text/plain": [
       "['Muhammad_Waqar', 'Muhammad_Waqar']"
      ]
     },
     "execution_count": 162,
     "metadata": {},
     "output_type": "execute_result"
    }
   ],
   "source": [
    "obj.Get_Item(\"84\")"
   ]
  },
  {
   "cell_type": "code",
   "execution_count": 163,
   "metadata": {},
   "outputs": [],
   "source": [
    "obj.Del_Item(\"84\")"
   ]
  },
  {
   "cell_type": "code",
   "execution_count": 164,
   "metadata": {},
   "outputs": [
    {
     "data": {
      "text/plain": [
       "[[],\n",
       " [],\n",
       " [('116', 'Muneeb_Mirza')],\n",
       " [],\n",
       " [],\n",
       " [],\n",
       " [],\n",
       " [],\n",
       " [('84', 'Muhammad_Waqar'), ('84', 'Muhammad_Waqar')],\n",
       " []]"
      ]
     },
     "execution_count": 164,
     "metadata": {},
     "output_type": "execute_result"
    }
   ],
   "source": [
    "obj.Get_Array()"
   ]
  },
  {
   "cell_type": "code",
   "execution_count": 165,
   "metadata": {},
   "outputs": [],
   "source": [
    "#Collissions Using Linear Probing\n",
    "class HashTable:\n",
    "    def __init__(self,data):\n",
    "        self.data=data#Size of the hashtable\n",
    "        self.values=[None for i in range(self.data)]#To store hashValues\n",
    "        self.keys=[None for i in range(self.data)]#To store hashkeys\n",
    "        self.elements=0#to keep record to element for using resize function\n",
    "        \n",
    "    def __GetHash(self,key):\n",
    "        var=key%self.data#calculating index using hash for values using division method there are many others also.\n",
    "        return var#returning index for the key\n",
    "    \n",
    "    def __ReHash(self,Var):\n",
    "        Value=(Var+2)%self.data#if index is filled or not found then we will use this\n",
    "        return Value\n",
    "    \n",
    "    def Get_Item(self,key):#geting the value using key for finding data related to it        \n",
    "        index=self.__GetHash(key)\n",
    "        while self.keys[index] is not None:\n",
    "            if self.keys[index]==key:\n",
    "                return self.values[index]\n",
    "            index.__ReHash(index)\n",
    "        return None\n",
    "    \n",
    "    def Set_Item(self,key,value):#putting the value into the location of hash\n",
    "        index=self.__GetHash(key)\n",
    "        while self.keys[index] is not None and self.keys[index] is not \"Del\":\n",
    "            if self.keys[index]==key:\n",
    "                #if the value already exist then we replace\n",
    "                Remove=self.values[index]\n",
    "                self.values[index]=value\n",
    "                return Remove\n",
    "            #probing continuation\n",
    "            index=self.__ReHash(index)\n",
    "        #Got empty slot then placing values and keys\n",
    "        self.keys[index]=key\n",
    "        self.values[index]=value\n",
    "        self.elements+=1\n",
    "        if self.elements==self.data:\n",
    "            self.ResizeHash()\n",
    "    \n",
    "    def Remove(self,key):#Removing the value using key from Hash\n",
    "        index=self.__GetHash(key)\n",
    "        if self.values[index] is not None:\n",
    "            if self.keys[index]==key and self.values[index] is not \"Del\":\n",
    "                value=self.values[index]\n",
    "                self.values[index]=\"Del\"\n",
    "                self.elements-=1\n",
    "                return value\n",
    "    \n",
    "    def IsEmpty(self):#checking if Hashtable is empty or not\n",
    "        return self.elements==0\n",
    "    \n",
    "    def Keys(self):#Getting all keys for values of hashtable\n",
    "        if not self.IsEmpty():\n",
    "            keys=[i for i in self.keys if i!=None and i!=\"Del\"]\n",
    "            return keys\n",
    "        return self.keys\n",
    "    \n",
    "    def Values(self):#Getting all values in the HashTable\n",
    "        if not self.IsEmpty():\n",
    "            values=[i for i in self.values if i is not None]\n",
    "            return values\n",
    "        return self.values\n",
    "    \n",
    "    def Size(self):#Getting the size of values present currently In HashTable\n",
    "        return self.elements\n",
    "    \n",
    "    def Entries(self):#getting all key values in the hashtable:\n",
    "        Values=[]\n",
    "        for i in self.keys:\n",
    "            for j in self.values:\n",
    "                Values+=Values+[(i,j)]\n",
    "        return Values\n",
    "    \n",
    "    def ResizeHash(self):#Resizing the whole HashTable\n",
    "        self.data*=2#size equals to double\n",
    "        #Copying the previous elements\n",
    "        Nkeys=[None for i in range(self.data)]\n",
    "        Nvalues=[None for i in range(self.data)]\n",
    "        for i in self.keys:\n",
    "            for j in self.values:\n",
    "                if i is not None:\n",
    "                    index=self.__GetHash(i)\n",
    "                    while Nkeys[index]is not None:\n",
    "                        index=self.__ReHash(index)\n",
    "                    Nkeys[index]=i\n",
    "                    Nvalues[index]=j\n",
    "        #now replacing old arrays\n",
    "        self.keys=Nkeys\n",
    "        self.values=Nvalues\n",
    "        Nkey=None\n",
    "        NValues=None"
   ]
  },
  {
   "cell_type": "code",
   "execution_count": 166,
   "metadata": {},
   "outputs": [],
   "source": [
    "H=HashTable(10)"
   ]
  },
  {
   "cell_type": "code",
   "execution_count": 167,
   "metadata": {},
   "outputs": [],
   "source": [
    "H.Set_Item(84,\"Muhammad Waqar\")"
   ]
  },
  {
   "cell_type": "code",
   "execution_count": 168,
   "metadata": {},
   "outputs": [
    {
     "data": {
      "text/plain": [
       "'Muhammad Waqar'"
      ]
     },
     "execution_count": 168,
     "metadata": {},
     "output_type": "execute_result"
    }
   ],
   "source": [
    "H.Get_Item(84)"
   ]
  },
  {
   "cell_type": "code",
   "execution_count": 169,
   "metadata": {},
   "outputs": [
    {
     "data": {
      "text/plain": [
       "'Muhammad Waqar'"
      ]
     },
     "execution_count": 169,
     "metadata": {},
     "output_type": "execute_result"
    }
   ],
   "source": [
    "H.Remove(84)"
   ]
  },
  {
   "cell_type": "code",
   "execution_count": 170,
   "metadata": {},
   "outputs": [
    {
     "data": {
      "text/plain": [
       "[None, None, None, None, 84, None, None, None, None, None]"
      ]
     },
     "execution_count": 170,
     "metadata": {},
     "output_type": "execute_result"
    }
   ],
   "source": [
    "H.Keys()"
   ]
  },
  {
   "cell_type": "code",
   "execution_count": 171,
   "metadata": {},
   "outputs": [
    {
     "data": {
      "text/plain": [
       "[None, None, None, None, 'Del', None, None, None, None, None]"
      ]
     },
     "execution_count": 171,
     "metadata": {},
     "output_type": "execute_result"
    }
   ],
   "source": [
    "H.Values()"
   ]
  },
  {
   "cell_type": "code",
   "execution_count": 1,
   "metadata": {},
   "outputs": [],
   "source": [
    "#avoiding collission using chaining \n",
    "class HashTable:\n",
    "    def __init__(self,length):\n",
    "        self.length=length#Length of the hashtable\n",
    "        self.data=[[] for i in range(self.length)]#HashMap as an array for Hashing values\n",
    "    \n",
    "    \n",
    "    def Get_Array(self):#getting the whole hashmap array\n",
    "        return self.data\n",
    "    \n",
    "    \n",
    "    def __Get_Hash(self,key):#Hashing using key to find the index on the hashmap\n",
    "        Hash_key=0#hashkey to be find\n",
    "        for i in key:\n",
    "            Hash_key+=ord(i)\n",
    "        return Hash_key%self.length#finding hash according to array size\n",
    "    \n",
    "    \n",
    "    def Get_Item(self,key):#searching using key on hashmap\n",
    "        Hash=self.__Get_Hash(key)#finding location using hash\n",
    "        Get=[]#storing all elements having same key\n",
    "        for i in self.data[Hash]:#itterating to find the element\n",
    "            if i[0]==key:#checking condition for matching key\n",
    "                Get.append(i[1])#append in the get list\n",
    "        return Get#getting the list as output\n",
    "    \n",
    "    \n",
    "    def Set_Item(self,key,value):#putting value using hash function on the basis of key in the hashmap\n",
    "        Hash=self.__Get_Hash(key)\n",
    "        flag=False\n",
    "        for k,v in enumerate(self.data[Hash]):#itterating through whole hash\n",
    "            if len(v)==1 and v[0]==key:\n",
    "                self.data[Hash][k]=(key,value)#putting both keys and values on the hashmap\n",
    "                flag=True\n",
    "        if not flag:#flag for checking if the value hash location is found or not\n",
    "            self.data[Hash].append((key,value))\n",
    "            \n",
    "            \n",
    "    def Del_Item(self,key):#deleting values on hashmap using \n",
    "        Hash=self.__Get_Hash(key)\n",
    "        for i in range(len(self.data[Hash])):\n",
    "            k, v = self.data[Hash][i]#Hashmap index point\n",
    "            if k == key:\n",
    "                self.data[Hash][i] = 'del'#after deleting keeping the del value to indicate that value has been deleted\n",
    "                return v#returning the value that has been deleted"
   ]
  },
  {
   "cell_type": "code",
   "execution_count": 2,
   "metadata": {},
   "outputs": [],
   "source": [
    "obj=HashTable(10)"
   ]
  },
  {
   "cell_type": "code",
   "execution_count": 3,
   "metadata": {},
   "outputs": [],
   "source": [
    "obj.Set_Item(\"84\",\"Muhammad_Waqar\")"
   ]
  },
  {
   "cell_type": "code",
   "execution_count": 4,
   "metadata": {},
   "outputs": [
    {
     "data": {
      "text/plain": [
       "[[], [], [], [], [], [], [], [], [('84', 'Muhammad_Waqar')], []]"
      ]
     },
     "execution_count": 4,
     "metadata": {},
     "output_type": "execute_result"
    }
   ],
   "source": [
    "obj.Get_Array()"
   ]
  },
  {
   "cell_type": "code",
   "execution_count": 5,
   "metadata": {},
   "outputs": [],
   "source": [
    "obj.Set_Item(\"116\",\"Muneeb_Mirza\")"
   ]
  },
  {
   "cell_type": "code",
   "execution_count": 6,
   "metadata": {},
   "outputs": [
    {
     "data": {
      "text/plain": [
       "[[],\n",
       " [],\n",
       " [('116', 'Muneeb_Mirza')],\n",
       " [],\n",
       " [],\n",
       " [],\n",
       " [],\n",
       " [],\n",
       " [('84', 'Muhammad_Waqar')],\n",
       " []]"
      ]
     },
     "execution_count": 6,
     "metadata": {},
     "output_type": "execute_result"
    }
   ],
   "source": [
    "obj.Get_Array()"
   ]
  },
  {
   "cell_type": "code",
   "execution_count": 7,
   "metadata": {},
   "outputs": [
    {
     "data": {
      "text/plain": [
       "['Muneeb_Mirza']"
      ]
     },
     "execution_count": 7,
     "metadata": {},
     "output_type": "execute_result"
    }
   ],
   "source": [
    "obj.Get_Item(\"116\")"
   ]
  },
  {
   "cell_type": "code",
   "execution_count": 8,
   "metadata": {},
   "outputs": [
    {
     "data": {
      "text/plain": [
       "'Muneeb_Mirza'"
      ]
     },
     "execution_count": 8,
     "metadata": {},
     "output_type": "execute_result"
    }
   ],
   "source": [
    "obj.Del_Item(\"116\")"
   ]
  },
  {
   "cell_type": "code",
   "execution_count": 9,
   "metadata": {},
   "outputs": [
    {
     "data": {
      "text/plain": [
       "[[], [], ['del'], [], [], [], [], [], [('84', 'Muhammad_Waqar')], []]"
      ]
     },
     "execution_count": 9,
     "metadata": {},
     "output_type": "execute_result"
    }
   ],
   "source": [
    "obj.Get_Array()"
   ]
  },
  {
   "cell_type": "code",
   "execution_count": 41,
   "metadata": {},
   "outputs": [],
   "source": [
    "class DoubleHashing:\n",
    "    def __init__(self,data,factor=0.75):#load factor decides to increase hashmap capacity it it is filled 75%\n",
    "        self.counter=1#here 1 means occupied , 0 means empty and -1 means item is deleted\n",
    "        self.data=data#size of hashmap \n",
    "        self.factor=factor\n",
    "        self.Table=[None]*self.data#size of hashmap for values\n",
    "        self.keys=[0]*self.data#size of hashmap for keys\n",
    "        \n",
    "    def __Hash_Function(self,key,data=None):#hash function for finding the keys \n",
    "        if not data:#if no lenth is being geven then it will take previous table length for finding hash\n",
    "            data=len(self.Table)\n",
    "        return key%data\n",
    "    \"\"\"for resizing the whole process(size will be increase by double and each previous will be shifted to new value table hashmap to the respected location)\"\"\"\n",
    "    def __ReHash(self):\n",
    "        Ntabel=[None]*len(self.Table)*2\n",
    "        Nkeys=[0]*len(self.Table)*2\n",
    "        for i in self.Table:\n",
    "            if not i:\n",
    "                continue\n",
    "                self.__insert(i,Ntable,Nkeys)\n",
    "        return Ntable,Nkeys\n",
    "    \n",
    "    def __insert(self,key,Table=None,keys=None):#insert finding using two hashes when required to maintain no worst case\n",
    "        if not Table:\n",
    "            Table=self.Table\n",
    "        if not keys:\n",
    "            keys=self.keys\n",
    "        index=self.__Hash_Function(key)\n",
    "        h=1\n",
    "        Hash_2=self.__Hash_Function(key)\n",
    "        while self.keys[index]==1:#after checking the key using it will run untill at gets the empty slot or location\n",
    "            index=(index+h*Hash_2)%len(self.Table)\n",
    "            h+=1\n",
    "        Table[index],keys[index]=key,1\n",
    "        \n",
    "    def keys(self):#checking keys you can ignore not required for checking if keys are deleted or not can run this to\n",
    "        return self.keys\n",
    "    \n",
    "    def insert(self,key):#inserting into the hashmap using hashfunction by key\n",
    "        self.counter+=1\n",
    "        factor=self.counter/len(self.Table)\n",
    "        if factor>self.factor:#checking the factor that the rehash has to be use for resize or not\n",
    "            self.Table,self.keys=self.__ReHash()\n",
    "            self.factor=factor\n",
    "        self.__insert(key)\n",
    "    \n",
    "    def search(self,key):#searching in hashmap using key \n",
    "        index=self.__Hash_Function(key)\n",
    "        h=1\n",
    "        Hash_2=self.__Hash_Function(key)\n",
    "        while (self.Table[index] != key or self.keys[index]==-1) and self.keys[index]==1:#condition for checking if the item is deleted or not and if it it is present or not\n",
    "            index=(index+h*hash_2)%len(self.Table)\n",
    "            h+=1\n",
    "        if self.Table[index]==key:\n",
    "            return index\n",
    "        return -1\n",
    "    \n",
    "    def delete(self,key):#deleting the value from the hashmap and also at the same location -1 is being placed to indicate that element is being deleted\n",
    "        index=self.search(key)\n",
    "        self.keys[index]=-1"
   ]
  },
  {
   "cell_type": "code",
   "execution_count": 42,
   "metadata": {},
   "outputs": [],
   "source": [
    "obj=DoubleHashing(10)"
   ]
  },
  {
   "cell_type": "code",
   "execution_count": 43,
   "metadata": {},
   "outputs": [],
   "source": [
    "obj.insert(10)"
   ]
  },
  {
   "cell_type": "code",
   "execution_count": 44,
   "metadata": {},
   "outputs": [
    {
     "data": {
      "text/plain": [
       "0"
      ]
     },
     "execution_count": 44,
     "metadata": {},
     "output_type": "execute_result"
    }
   ],
   "source": [
    "obj.search(10)"
   ]
  },
  {
   "cell_type": "code",
   "execution_count": 45,
   "metadata": {},
   "outputs": [],
   "source": [
    "obj.delete(10)"
   ]
  },
  {
   "cell_type": "code",
   "execution_count": 46,
   "metadata": {},
   "outputs": [
    {
     "data": {
      "text/plain": [
       "[-1, 0, 0, 0, 0, 0, 0, 0, 0, 0]"
      ]
     },
     "execution_count": 46,
     "metadata": {},
     "output_type": "execute_result"
    }
   ],
   "source": [
    "obj.keys"
   ]
  },
  {
   "cell_type": "code",
   "execution_count": 47,
   "metadata": {},
   "outputs": [],
   "source": [
    "class QuadraticProbing:\n",
    "    def __init__(self,data,factor=0.75):#load factor decides to increase hashmap capacity it it is filled 75%\n",
    "        self.data=data#size of hashmap\n",
    "        self.counter=0#checking how many elements are in hashmap\n",
    "        self.factor=factor\n",
    "        self.Table=[None for i in range(self.data)]#hashmap of values\n",
    "        self.keys=[0 for i in range(self.data)]#hashmap of keywords\n",
    "        \n",
    "    def __Hash_Function(self,key,data=None):#hash function hashing index using key\n",
    "        if not data:\n",
    "            data=len(self.Table)\n",
    "        return key%data\n",
    "    \n",
    "    def keys(self):#checking keys you can ignore not required for checking if keys are deleted or not can run this too.\n",
    "        return self.keys\n",
    "    \"\"\"for resizing the whole process(size will be increase by double and each previous will be shifted to new value table hashmap to the respected location)\"\"\"\n",
    "    def __ReHash(self):\n",
    "        Ntable=[None]*len(self.Table)*2\n",
    "        Nkeys=[0]*len(self.Table)*2\n",
    "        for i in self.Table:\n",
    "            if not i:\n",
    "                continue\n",
    "                self.__insert(i,Ntable,Nkeys)\n",
    "        return Ntable,Nkeys\n",
    "    \n",
    "    def __insert(self,key,Table=None,keys=None):#inserting into the hashmap using hashfunction by key\n",
    "        if not Table:\n",
    "            Table=self.Table\n",
    "        if not keys:\n",
    "            keys=self.keys\n",
    "        index=self.__Hash_Function(key)\n",
    "        H=1\n",
    "        while self.keys[index]==1:\n",
    "            index=(index+h*h)%len(self.Table)\n",
    "            h+=1\n",
    "        Table[index],keys[index]=key,1\n",
    "    \n",
    "    def insert(self,key):#inserting using key in the hashmap \n",
    "        self.counter+=1\n",
    "        factor=self.counter/len(self.Table)\n",
    "        if factor>self.factor:\n",
    "            self.Table,self.keys=self.__ReHash()\n",
    "            self.factor=factor\n",
    "        self.__insert(key)\n",
    "        \n",
    "    def search(self,key):#searching by jey in the hashmap\n",
    "        index=self.__Hash_Function(key)\n",
    "        H=1\n",
    "        while (self.Table[index]!=key or self.keys[index]==-1) and self.keys[index]==1:\n",
    "            index=(index+h*h)%len(self.Table)\n",
    "            h+=1\n",
    "        if self.Table[index]==key:\n",
    "            return index\n",
    "        return -1\n",
    "    \n",
    "    def delete(self,key):#deleting by key in the hashmap\n",
    "        index=self.search(key)\n",
    "        self.keys[index]=-1#1 indicite occupied, 0 indicate empty spot, -1 indicate item deleted"
   ]
  },
  {
   "cell_type": "code",
   "execution_count": 48,
   "metadata": {},
   "outputs": [],
   "source": [
    "obj=QuadraticProbing(10)"
   ]
  },
  {
   "cell_type": "code",
   "execution_count": 49,
   "metadata": {},
   "outputs": [],
   "source": [
    "obj.insert(10)"
   ]
  },
  {
   "cell_type": "code",
   "execution_count": 50,
   "metadata": {},
   "outputs": [
    {
     "data": {
      "text/plain": [
       "0"
      ]
     },
     "execution_count": 50,
     "metadata": {},
     "output_type": "execute_result"
    }
   ],
   "source": [
    "obj.search(10)"
   ]
  },
  {
   "cell_type": "code",
   "execution_count": 51,
   "metadata": {},
   "outputs": [],
   "source": [
    "obj.delete(10)"
   ]
  },
  {
   "cell_type": "code",
   "execution_count": 52,
   "metadata": {},
   "outputs": [
    {
     "data": {
      "text/plain": [
       "0"
      ]
     },
     "execution_count": 52,
     "metadata": {},
     "output_type": "execute_result"
    }
   ],
   "source": [
    "obj.search(10)"
   ]
  },
  {
   "cell_type": "code",
   "execution_count": 53,
   "metadata": {},
   "outputs": [
    {
     "data": {
      "text/plain": [
       "[-1, 0, 0, 0, 0, 0, 0, 0, 0, 0]"
      ]
     },
     "execution_count": 53,
     "metadata": {},
     "output_type": "execute_result"
    }
   ],
   "source": [
    "obj.keys"
   ]
  }
 ],
 "metadata": {
  "kernelspec": {
   "display_name": "Python 3",
   "language": "python",
   "name": "python3"
  },
  "language_info": {
   "codemirror_mode": {
    "name": "ipython",
    "version": 3
   },
   "file_extension": ".py",
   "mimetype": "text/x-python",
   "name": "python",
   "nbconvert_exporter": "python",
   "pygments_lexer": "ipython3",
   "version": "3.7.4"
  }
 },
 "nbformat": 4,
 "nbformat_minor": 2
}
